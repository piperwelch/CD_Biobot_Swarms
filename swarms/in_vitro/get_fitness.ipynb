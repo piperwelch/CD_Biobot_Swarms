{
 "cells": [
  {
   "cell_type": "code",
   "execution_count": 1,
   "metadata": {},
   "outputs": [],
   "source": [
    "import pandas as pd \n",
    "import numpy as np \n",
    "import matplotlib.pyplot as plt \n",
    "import os \n",
    "import seaborn as sns\n",
    "from scipy import stats\n",
    "import utils\n",
    "import constants\n",
    "import scipy.stats as stats"
   ]
  },
  {
   "cell_type": "code",
   "execution_count": 2,
   "metadata": {},
   "outputs": [],
   "source": [
    "# Define the list of swarm IDs and trial IDs\n",
    "swarm_ids = [1, 2, 3, 4, 5, 6, 7, 8]\n",
    "trial_ids = [1, 2, 3]\n",
    "\n",
    "# Initialize an empty list to store dataframes\n",
    "dfs = []\n",
    "\n",
    "# Loop over swarm IDs and trial IDs\n",
    "for swarm_id in swarm_ids:\n",
    "    for trial_id in trial_ids:\n",
    "        trajectory_file = os.path.join(\"swarm_data\", f\"Swarm_{swarm_id}\", f\"Swarm{swarm_id}_Trial{trial_id}\", f\"Swarm{swarm_id}_Trial{trial_id}_correct_order.csv\")\n",
    "\n",
    "        if os.path.exists(trajectory_file):\n",
    "            df = pd.read_csv(trajectory_file)\n",
    "            df['swarm_id'] = swarm_id\n",
    "            df['trial_id'] = trial_id\n",
    "            df.rename(columns={'track': 'bot_id'}, inplace=True)\n",
    "            df['speed'] = np.sqrt((df.groupby('bot_id')['x'].diff() ** 2) + (df.groupby('bot_id')['y'].diff() ** 2))\n",
    "            \n",
    "            dfs.append(df)\n",
    "\n",
    "df = pd.concat(dfs, ignore_index=True)\n",
    "df.drop(columns=['ignore', 'track_fixed'], inplace=True)\n",
    "\n",
    "frames = np.arange(1, 129)  # Assuming frames are from 1 to 129\n",
    "bot_ids = range(1, 5)       # Assuming bot_ids are from 1 to 4\n",
    "\n",
    "# Create a MultiIndex from product of frames and bot_ids\n",
    "index = pd.MultiIndex.from_product([frames, bot_ids], names=['frame', 'bot_id'])\n",
    "\n",
    "# Reindex the dataframe to include all possible frames and bot_ids\n",
    "complete_dfs = []\n",
    "\n",
    "for swarm_id in swarm_ids:\n",
    "    for trial_id in trial_ids:\n",
    "\n",
    "        sub_df = df[(df['swarm_id'] == swarm_id) & (df['trial_id'] == trial_id)]\n",
    "        sub_df = sub_df.set_index(['frame', 'bot_id']).reindex(index, fill_value=np.nan).reset_index()\n",
    "        sub_df['swarm_id'] = swarm_id\n",
    "        sub_df['trial_id'] = trial_id\n",
    "        complete_dfs.append(sub_df)\n",
    "\n",
    "df = pd.concat(complete_dfs, ignore_index=True)"
   ]
  },
  {
   "cell_type": "code",
   "execution_count": 3,
   "metadata": {},
   "outputs": [],
   "source": [
    "def evaluate_fitness(all_coords):\n",
    "    # Create a boundary \n",
    "\n",
    "    min_y = 0\n",
    "    max_y = 736\n",
    "\n",
    "    x_starts = []\n",
    "    x_starts = [all_coords[0,0], all_coords[128,0], all_coords[256,0], all_coords[384,0]]\n",
    "    center_x = np.mean(x_starts)\n",
    "\n",
    "    min_x = center_x - 736/2 #center eval area on x\n",
    "    max_x = center_x + 736/2\n",
    "\n",
    "    unique_points = np.unique(all_coords,axis=0)\n",
    "\n",
    "    # true if in bounds\n",
    "    x_min_mask = np.reshape(unique_points[:,0]>min_x,newshape=(-1,1))\n",
    "    x_max_mask = np.reshape(unique_points[:,0]<max_x,newshape=(-1,1))\n",
    "    y_min_mask = np.reshape(unique_points[:,1]>min_y,newshape=(-1,1))\n",
    "    y_max_mask = np.reshape(unique_points[:,1]<max_y,newshape=(-1,1))\n",
    "\n",
    "    mask = np.all(np.concatenate((x_min_mask, x_max_mask, y_min_mask, y_max_mask),axis=1),axis=1)\n",
    "\n",
    "    unique_points_in_bounds = unique_points[mask]\n",
    "\n",
    "    return fractal_box_count(unique_points_in_bounds,(min_x,min_y,max_x,max_y))\n",
    "\n",
    "\n",
    "def fractal_box_count(points, boundary):\n",
    "    # https://francescoturci.net/2016/03/31/box-counting-in-numpy/\n",
    "\n",
    "    min_x,min_y,max_x,max_y = boundary # unpack tuple\n",
    "\n",
    "    Ns=[]\n",
    "\n",
    "    # scales = np.arange(start=2, stop=int(constants.BOUNDARY_LENGTH/constants.MIN_GRID_DIM)) #start with quadrents and go to resolution of voxcraft float\n",
    "    levels = np.arange(start=1, stop=13)\n",
    "\n",
    "    for level in levels: \n",
    "\n",
    "        scale = 2**level\n",
    "\n",
    "        cell_width = 736/scale\n",
    "        cell_height = 736/scale\n",
    "\n",
    "        # H, edges=np.histogramdd(points, bins=(np.linspace(min_x,max_x,constants.BOUNDARY_LENGTH/scale),np.linspace(min_y,max_y,constants.BOUNDARY_LENGTH/scale)))\n",
    "        H, edges=np.histogramdd(points, bins=(np.linspace(min_x,max_x,num=scale+1),np.linspace(min_y,max_y,num=scale+1)))\n",
    "\n",
    "        weight = (cell_width*cell_height)/(736*736) # David scaling\n",
    "        # print(level, weight)\n",
    "        Ns.append(np.sum(H>0)*weight)\n",
    "\n",
    "    # Divide by # of levels to get a value between 0-1\n",
    "    scaled_box_count = np.sum(Ns)/len(levels) # David scaling\n",
    "    # print(scaled_box_count)\n",
    "    return scaled_box_count\n"
   ]
  },
  {
   "cell_type": "code",
   "execution_count": 4,
   "metadata": {},
   "outputs": [],
   "source": [
    "fitness_records = []\n",
    "for swarm in swarm_ids: \n",
    "    for trial in trial_ids: \n",
    "        fitness  = evaluate_fitness(utils.concatenate_bot_points(df, swarm, trial))\n",
    "        fitness_records.append({'swarm_id': swarm, 'trial_id': trial, 'fitness': fitness})\n",
    "fitness_df = pd.DataFrame(fitness_records)\n",
    "\n",
    "# Merge the fitness DataFrame with the original DataFrame\n",
    "df = pd.merge(df, fitness_df, on=['swarm_id', 'trial_id'], how='left')"
   ]
  },
  {
   "cell_type": "code",
   "execution_count": 5,
   "metadata": {},
   "outputs": [],
   "source": [
    "mean_fitness_per_swarm = fitness_df.groupby('swarm_id')['fitness'].mean()\n",
    "total_frames_speed_gt_0_5_or_nan = df[(df['speed'] > 1.0) | (df['speed'].isna())].groupby(['swarm_id', 'trial_id']).size().reset_index(name='total_frames')['total_frames']\n",
    "\n",
    "fitness_df['motile_frames'] = np.array(total_frames_speed_gt_0_5_or_nan)\n",
    "\n",
    "average_fitness_df = pd.DataFrame({'swarm_id': mean_fitness_per_swarm.index, 'fitness': mean_fitness_per_swarm.values, 'trial_id': 'A'})\n",
    "\n",
    "fitness_df = pd.concat([fitness_df, average_fitness_df], ignore_index=True)\n",
    "fitness_df['swarm_trial'] = fitness_df['swarm_id'].astype(str) + '-' + fitness_df['trial_id'].astype(str)\n",
    "\n",
    "fitness_df = fitness_df.sort_values(by='swarm_trial')"
   ]
  },
  {
   "cell_type": "code",
   "execution_count": 6,
   "metadata": {},
   "outputs": [],
   "source": [
    "fitness_df['fitness_per_frame'] = fitness_df['fitness'] / fitness_df['motile_frames']\n",
    "\n",
    "# Calculate average 'fitness_per_frame' for each swarm\n",
    "average_fitness_per_swarm = fitness_df.groupby('swarm_id')['fitness_per_frame'].median()\n",
    "\n",
    "# Assign the average values to corresponding 'trial_id' 'A' rows within each swarm\n",
    "for swarm_id, avg_fitness in average_fitness_per_swarm.items():\n",
    "    mask = (fitness_df['swarm_id'] == swarm_id) & (fitness_df['trial_id'] == 'A')\n",
    "    fitness_df.loc[mask, 'fitness_per_frame'] = avg_fitness"
   ]
  },
  {
   "cell_type": "code",
   "execution_count": 7,
   "metadata": {},
   "outputs": [
    {
     "name": "stdout",
     "output_type": "stream",
     "text": [
      "p-value w/alternative greater: 0.02857142857142857\n"
     ]
    }
   ],
   "source": [
    "#p value with medians \n",
    "evolved_swarms = [1, 2, 6, 8]\n",
    "random_swarms = [3, 4, 5, 7]\n",
    "# Filter and group by 'swarm_id' for group1\n",
    "evolved_medians = fitness_df[(fitness_df['swarm_id'].isin(evolved_swarms)) & \n",
    "                            (fitness_df['trial_id'] !='A')].groupby('swarm_id')['fitness_per_frame'].median()\n",
    "\n",
    "# Filter and group by 'swarm_id' for group2\n",
    "random_medians = fitness_df[(fitness_df['swarm_id'].isin(random_swarms)) & \n",
    "                            (fitness_df['trial_id'] !='A')].groupby('swarm_id')['fitness_per_frame'].median()\n",
    "\n",
    "alternative = 'greater'\n",
    "u_statistic, p_value = stats.mannwhitneyu(evolved_medians, random_medians, alternative=alternative)\n",
    "print(f'p-value w/alternative {alternative}: {p_value}')"
   ]
  },
  {
   "cell_type": "markdown",
   "metadata": {},
   "source": []
  }
 ],
 "metadata": {
  "kernelspec": {
   "display_name": "Python 3",
   "language": "python",
   "name": "python3"
  },
  "language_info": {
   "codemirror_mode": {
    "name": "ipython",
    "version": 3
   },
   "file_extension": ".py",
   "mimetype": "text/x-python",
   "name": "python",
   "nbconvert_exporter": "python",
   "pygments_lexer": "ipython3",
   "version": "3.11.0"
  }
 },
 "nbformat": 4,
 "nbformat_minor": 2
}
